{
 "cells": [
  {
   "cell_type": "code",
   "execution_count": null,
   "metadata": {},
   "outputs": [],
   "source": [
    "# GENERAL IMPORTS\n",
    "\n",
    "import pandas as pd\n",
    "import numpy as np\n",
    "import scipy as sp\n",
    "\n",
    "import datetime\n",
    "import math\n",
    "import time"
   ]
  },
  {
   "cell_type": "code",
   "execution_count": null,
   "metadata": {},
   "outputs": [],
   "source": [
    "infile = r'''Data\\IVE_tickbidask.txt'''\n",
    "\n",
    "colnames = ['Date', 'Time', 'TradedPrice', 'Bid', 'Ask', 'Volume']\n",
    "tickdata = pd.read_csv(infile, names=colnames)\n",
    "\n",
    "# tickdata['DateTime'] = (tickdata['Date']+tickdata['Time']).map(lambda x: datetime.datetime(int(x[6:10]), int(x[0:2]), int(x[3:5]), int(x[10:12]), int(x[13:15])))\n",
    "# del tickdata['Date']\n",
    "# del tickdata['Time']\n",
    "\n",
    "tickdata['Date'] = tickdata['Date'].map(lambda x: datetime.date(int(x[6:10]), int(x[0:2]), int(x[3:5])))\n",
    "tickdata['Time'] = tickdata['Time'].map(lambda x: datetime.time(int(x[0:2]), int(x[3:5])))\n",
    "\n",
    "tickdata = tickdata[[(t >= datetime.time(9,30)) and (t < datetime.time(16,0)) for t in tickdata['Time']]].copy()"
   ]
  },
  {
   "cell_type": "code",
   "execution_count": null,
   "metadata": {
    "scrolled": true
   },
   "outputs": [],
   "source": [
    "minutedata = []\n",
    "\n",
    "for day in tickdata.groupby('Date'):\n",
    "    print(day[1]['Date'].iloc[0])\n",
    "    for data in day[1].groupby('Time'):\n",
    "        minutedata.append(\n",
    "            {\n",
    "                \"Date\": data[1]['Date'].iloc[0],\n",
    "                \"Time\": data[1]['Time'].iloc[0],\n",
    "                \"BidOpen\": data[1]['Bid'].iloc[0],\n",
    "                \"BidHigh\": data[1]['Bid'].max(),\n",
    "                \"BidLow\": data[1]['Bid'].min(),\n",
    "                \"BidClose\": data[1]['Bid'].iloc[-1],\n",
    "                \"AskOpen\": data[1]['Ask'].iloc[0],\n",
    "                \"AskHigh\": data[1]['Ask'].max(),\n",
    "                \"AskLow\": data[1]['Ask'].min(),\n",
    "                \"AskClose\": data[1]['Ask'].iloc[-1],\n",
    "                \"Volume\": data[1]['Volume'].sum()\n",
    "            }\n",
    "        )"
   ]
  },
  {
   "cell_type": "code",
   "execution_count": null,
   "metadata": {},
   "outputs": [],
   "source": [
    "df = pd.DataFrame(minutedata)[['Date', 'Time', 'BidOpen', 'BidHigh', 'BidLow', 'BidClose', 'AskOpen', 'AskHigh', 'AskLow', 'AskClose', 'Volume']]\n",
    "df['Date'] = df['Date'].map(lambda x: x.strftime(\"%m/%d/%Y\"))\n",
    "df['Time'] = df['Time'].map(lambda x: x.strftime(\"%H:%M\"))\n",
    "\n",
    "outfile = r'''Data\\IVE_bidaskvol1min.txt'''\n",
    "df.to_csv(outfile, index=False, header=False)"
   ]
  }
 ],
 "metadata": {
  "celltoolbar": "Raw Cell Format",
  "kernelspec": {
   "display_name": "Python 3",
   "language": "python",
   "name": "python3"
  },
  "language_info": {
   "codemirror_mode": {
    "name": "ipython",
    "version": 3
   },
   "file_extension": ".py",
   "mimetype": "text/x-python",
   "name": "python",
   "nbconvert_exporter": "python",
   "pygments_lexer": "ipython3",
   "version": "3.7.0"
  }
 },
 "nbformat": 4,
 "nbformat_minor": 2
}
