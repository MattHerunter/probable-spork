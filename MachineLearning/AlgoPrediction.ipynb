{
 "cells": [
  {
   "cell_type": "code",
   "execution_count": null,
   "metadata": {},
   "outputs": [],
   "source": [
    "# This allows importing Jupyter notebooks as modules\n",
    "import os\n",
    "import sys\n",
    "module_path = os.path.abspath(os.path.join('..'))\n",
    "if module_path not in sys.path:\n",
    "    sys.path.append(module_path)\n",
    "import JupyterNotebookImporter"
   ]
  },
  {
   "cell_type": "code",
   "execution_count": null,
   "metadata": {},
   "outputs": [],
   "source": [
    "import numpy as np\n",
    "import AlgoPlotting as plt"
   ]
  },
  {
   "cell_type": "code",
   "execution_count": null,
   "metadata": {},
   "outputs": [],
   "source": [
    "def generate_prediction_data(price_data, sell_target_frac=1.01, stop_loss_frac=0.99, commission=0):\n",
    "    predictions = []\n",
    "    N = len(price_data)\n",
    "    for ii in range(N):\n",
    "        sell_target = price_data[ii]*sell_target_frac\n",
    "        stop_loss = price_data[ii]*stop_loss_frac\n",
    "        jj = ii\n",
    "        while price_data[jj] >= stop_loss and price_data[jj] <= sell_target and jj < N-1:\n",
    "            if jj < N-1:\n",
    "                jj += 1\n",
    "        if price_data[jj] >= sell_target:\n",
    "            prediction = 1\n",
    "        else: # price_data[jj] <= stop_loss:\n",
    "            prediction = 0\n",
    "#         elif jj >= N and price_data[N-1] > price_data[ii]:\n",
    "#             prediction = price_data[N-1]/sell_target\n",
    "#         else:\n",
    "#             prediction = -stop_loss/price_data[N-1]\n",
    "        \n",
    "        predictions.append(prediction)\n",
    "    return np.array(predictions)\n",
    "        "
   ]
  },
  {
   "cell_type": "code",
   "execution_count": null,
   "metadata": {
    "scrolled": true
   },
   "outputs": [],
   "source": [
    "# x = np.cumsum(np.random.rand(100) - 0.5)\n",
    "# x -= min(x)\n",
    "# y = generate_prediction_data(x, sell_target_frac=1.20, stop_loss_frac=0.8)\n",
    "\n",
    "# xy_chart = plt.XYChart(y=[x ,y], names=['x', 'y'])"
   ]
  },
  {
   "cell_type": "code",
   "execution_count": null,
   "metadata": {
    "scrolled": true
   },
   "outputs": [],
   "source": [
    "# TODO\n",
    "# Learn how to make actual TODO's\n",
    "# Implement dynamic sell targets and stop losses\n",
    "# Would be nice to have a cursor callback that plotted the stop loss and sell target at a given point when moused over but sounds like a PITA"
   ]
  }
 ],
 "metadata": {
  "kernelspec": {
   "display_name": "Python 3",
   "language": "python",
   "name": "python3"
  },
  "language_info": {
   "codemirror_mode": {
    "name": "ipython",
    "version": 3
   },
   "file_extension": ".py",
   "mimetype": "text/x-python",
   "name": "python",
   "nbconvert_exporter": "python",
   "pygments_lexer": "ipython3",
   "version": "3.6.8"
  }
 },
 "nbformat": 4,
 "nbformat_minor": 2
}
