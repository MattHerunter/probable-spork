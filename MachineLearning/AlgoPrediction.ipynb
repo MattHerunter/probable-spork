{
 "cells": [
  {
   "cell_type": "code",
   "execution_count": null,
   "metadata": {},
   "outputs": [],
   "source": [
    "# This allows importing Jupyter notebooks as modules\n",
    "import os\n",
    "import sys\n",
    "module_path = os.path.abspath(os.path.join('..'))\n",
    "if module_path not in sys.path:\n",
    "    sys.path.append(module_path)\n",
    "import JupyterNotebookImporter"
   ]
  },
  {
   "cell_type": "code",
   "execution_count": null,
   "metadata": {},
   "outputs": [],
   "source": [
    "import numpy as np\n",
    "import AlgoPlotting as plt"
   ]
  },
  {
   "cell_type": "code",
   "execution_count": null,
   "metadata": {},
   "outputs": [],
   "source": [
    "def shape_it(X):\n",
    "    return np.expand_dims(X.reshape((-1,1)),2)"
   ]
  },
  {
   "cell_type": "code",
   "execution_count": null,
   "metadata": {},
   "outputs": [],
   "source": [
    "def generate_prediction_data(price_data, sell_target_diff=1.00, stop_loss_diff=1.00, commission=0):\n",
    "    predictions = []\n",
    "    N = len(price_data)\n",
    "    for ii in range(N):\n",
    "        sell_target = price_data[ii] + sell_target_diff\n",
    "        stop_loss = price_data[ii] - stop_loss_diff\n",
    "        jj = ii\n",
    "        while price_data[jj] >= stop_loss and price_data[jj] <= sell_target and jj < N-1:\n",
    "            if jj < N-1:\n",
    "                jj += 1\n",
    "        if price_data[jj] >= sell_target:\n",
    "            prediction = 1\n",
    "        else: # price_data[jj] <= stop_loss:\n",
    "            prediction = 0\n",
    "#         elif jj >= N and price_data[N-1] > price_data[ii]:\n",
    "#             prediction = price_data[N-1]/sell_target\n",
    "#         else:\n",
    "#             prediction = -stop_loss/price_data[N-1]\n",
    "        \n",
    "        predictions.append(prediction)\n",
    "    return np.array(predictions)\n",
    "        "
   ]
  },
  {
   "cell_type": "code",
   "execution_count": null,
   "metadata": {
    "scrolled": false
   },
   "outputs": [],
   "source": [
    "def generate_data():\n",
    "    N = 1000\n",
    "    period = 200 + np.random.rand()*200\n",
    "    period2 = 50 + np.random.rand()*50\n",
    "    amp = np.random.rand()\n",
    "    phase = np.random.rand() * 2 * np.pi\n",
    "    phase2 = np.random.rand() * 2 * np.pi\n",
    "    \n",
    "    x = []\n",
    "    for ii in range(N):\n",
    "        bias = amp * np.sin(2 * np.pi*ii/period + phase) + (1 - amp) * np.sin(2 * np.pi*ii/period2 + phase2)\n",
    "        delta = 3 * 2 * (np.random.rand()-0.5) + bias\n",
    "        x.append(delta)\n",
    "    x = np.cumsum(np.array(x))\n",
    "    \n",
    "#     N = 1000\n",
    "#     p = np.cumsum(np.random.rand(N)-0.5)\n",
    "#     p = (p - np.min(p))/(np.max(p) - np.min(p))\n",
    "    \n",
    "    \n",
    "    x -= min(x)\n",
    "    x = np.array(x)\n",
    "    y = generate_prediction_data(x, sell_target_diff=15, stop_loss_diff=15)\n",
    "\n",
    "    \n",
    "    \n",
    "    #x = np.vstack((x0, x1)).transpose()\n",
    "    #y = np.array(y[10:])\n",
    "    y = y[1:]\n",
    "#    x = np.vstack((np.diff(x), np.array(p[:-1]))).transpose()\n",
    "\n",
    "#    plt.XYChart(y=x, names=['x'])\n",
    "    x = np.diff(x)\n",
    "#    plt.XYChart(y=x, names=['x'])\n",
    "#    plt.XYChart(y=y, names=['y'])\n",
    "    \n",
    "#    xy_chart = plt.XYChart(y=[x ,y], names=['x', 'y'])\n",
    "    y_train = shape_it(y)\n",
    "#    x_train = x.reshape(x.shape[0], x.shape[1], 1)\n",
    "    x_train = shape_it(x)\n",
    "    \n",
    "#     print(x_train.shape)\n",
    "#     print(y_train.shape)\n",
    "    \n",
    "    return x_train, y_train"
   ]
  },
  {
   "cell_type": "code",
   "execution_count": null,
   "metadata": {},
   "outputs": [],
   "source": [
    "generate_data()"
   ]
  },
  {
   "cell_type": "code",
   "execution_count": null,
   "metadata": {
    "scrolled": true
   },
   "outputs": [],
   "source": [
    "# TODO\n",
    "# Learn how to make actual TODO's\n",
    "# Implement dynamic sell targets and stop losses\n",
    "# Would be nice to have a cursor callback that plotted the stop loss and sell target at a given point when moused over but sounds like a PITA"
   ]
  },
  {
   "cell_type": "code",
   "execution_count": null,
   "metadata": {},
   "outputs": [],
   "source": [
    "from keras.models import Sequential\n",
    "from keras.layers import Dense, Dropout, SimpleRNN, LSTM\n",
    "from keras import optimizers\n",
    "from keras import regularizers\n",
    "import random\n",
    "import numpy as np\n",
    "import pandas as pd\n",
    "from operator import add\n",
    "\n",
    "x_temp, y_temp = generate_data()\n",
    "batch_input_shape = (1,x_temp.shape[1],1)"
   ]
  },
  {
   "cell_type": "code",
   "execution_count": null,
   "metadata": {},
   "outputs": [],
   "source": [
    "# model = Sequential()\n",
    "# los = 'binary_crossentropy' # 'mse'\n",
    "# act = 'tanh'\n",
    "# learning_rate = 0.00005\n",
    "# decay_rate = learning_rate/1000\n",
    "# momentum = 0.0\n",
    "# sgd = optimizers.SGD(lr=learning_rate, momentum=momentum, decay=decay_rate, nesterov=False)\n",
    "# opt = sgd\n",
    "# kreg = regularizers.l2(0.0005)\n",
    "# areg = regularizers.l2(0.0005)\n",
    "# neurons = 20\n",
    "# num_recurrent_layers = 3\n",
    "# for _ in range(max(num_recurrent_layers - 1, 0)):\n",
    "#     model.add(SimpleRNN(neurons, activation=act, batch_input_shape=batch_input_shape, stateful=True, return_sequences=True,\n",
    "#                              kernel_regularizer=kreg, activity_regularizer=areg))\n",
    "# model.add(SimpleRNN(neurons, activation=act, batch_input_shape=batch_input_shape, stateful=True,\n",
    "#                          kernel_regularizer=kreg, activity_regularizer=areg))\n",
    "# model.add(Dense(neurons, activation=act, \n",
    "#                      kernel_regularizer=kreg, activity_regularizer=areg))\n",
    "# model.add(Dense(1, activation='sigmoid'))\n",
    "\n",
    "# model.compile(loss=los, optimizer=opt)"
   ]
  },
  {
   "cell_type": "code",
   "execution_count": null,
   "metadata": {},
   "outputs": [],
   "source": [
    "model = Sequential()\n",
    "los = 'binary_crossentropy' # 'mse'\n",
    "act = 'tanh'\n",
    "learning_rate = 0.0005\n",
    "decay_rate = learning_rate/1000\n",
    "momentum = 0.0\n",
    "sgd = optimizers.SGD(lr=learning_rate, momentum=momentum, decay=decay_rate, nesterov=False)\n",
    "opt = sgd\n",
    "kreg = regularizers.l2(0.0005)\n",
    "areg = regularizers.l2(0.0005)\n",
    "neurons = 20\n",
    "num_recurrent_layers = 3\n",
    "for _ in range(max(num_recurrent_layers - 1, 0)):\n",
    "    model.add(LSTM(neurons, activation=act, batch_input_shape=batch_input_shape, stateful=True, return_sequences=True,\n",
    "                   kernel_regularizer=kreg, activity_regularizer=areg,\n",
    "                   unit_forget_bias=True, bias_initializer='zeros'))\n",
    "model.add(LSTM(neurons, activation=act, batch_input_shape=batch_input_shape, stateful=True,\n",
    "               kernel_regularizer=kreg, activity_regularizer=areg,\n",
    "               unit_forget_bias=True, bias_initializer='zeros'))\n",
    "model.add(Dense(neurons, activation=act, \n",
    "                kernel_regularizer=kreg, activity_regularizer=areg))\n",
    "model.add(Dense(1, activation='sigmoid'))\n",
    "\n",
    "model.compile(loss=los, optimizer=opt)"
   ]
  },
  {
   "cell_type": "code",
   "execution_count": null,
   "metadata": {},
   "outputs": [],
   "source": [
    "# Initialize charts\n",
    "input_chart = plt.XYChart(title='Input', x_label='Index', y_label='X', names=['Test Input ' + str(ii) for ii in range(x_temp.shape[1])])\n",
    "predictions_chart = plt.XYChart(title='Predictions', x_label='Index', y_label='Y', names=['Prediction', 'Test Data'])\n",
    "losses_chart = plt.XYChart(title='Losses', x_label='Epochs', y_label='Loss')"
   ]
  },
  {
   "cell_type": "code",
   "execution_count": null,
   "metadata": {
    "scrolled": false
   },
   "outputs": [],
   "source": [
    "epochs = 5000\n",
    "losses = []\n",
    "batch_size = 1\n",
    "epoch_update_interval = 10\n",
    "for epoch in range(epochs):\n",
    "    x_train, y_train = generate_data()\n",
    "    x_test, y_test = generate_data()\n",
    "    \n",
    "    history = model.fit(x_train, np.reshape(y_train,(-1,)), epochs=1,\n",
    "                              batch_size=1, verbose=0, shuffle=False)\n",
    "    loss = history.history['loss'][0]\n",
    "    losses.append(loss)\n",
    "    \n",
    "   # Update the plots\n",
    "    if not epoch % epoch_update_interval:\n",
    "        model.reset_states()\n",
    "        predictions = []\n",
    "        predictions = model.predict(x_test, batch_size=batch_size, verbose=0)\n",
    "        expected = y_test\n",
    "\n",
    "        # Push off the starting indices once the losses is long enough\n",
    "        input_chart.update(y=[x_test[:,ii] for ii in range(x_test.shape[1])])\n",
    "        predictions_chart.update(y=[predictions, y_test])\n",
    "        losses_chart.update(y=losses)\n",
    "    model.reset_states()\n"
   ]
  },
  {
   "cell_type": "code",
   "execution_count": null,
   "metadata": {},
   "outputs": [],
   "source": []
  }
 ],
 "metadata": {
  "kernelspec": {
   "display_name": "Python 3",
   "language": "python",
   "name": "python3"
  },
  "language_info": {
   "codemirror_mode": {
    "name": "ipython",
    "version": 3
   },
   "file_extension": ".py",
   "mimetype": "text/x-python",
   "name": "python",
   "nbconvert_exporter": "python",
   "pygments_lexer": "ipython3",
   "version": "3.7.0"
  }
 },
 "nbformat": 4,
 "nbformat_minor": 2
}
