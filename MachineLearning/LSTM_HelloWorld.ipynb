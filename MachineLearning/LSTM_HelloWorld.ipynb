{
 "cells": [
  {
   "cell_type": "markdown",
   "metadata": {},
   "source": [
    "# Machine Learning Experiment \\#1"
   ]
  },
  {
   "cell_type": "code",
   "execution_count": null,
   "metadata": {},
   "outputs": [],
   "source": [
    "import numpy as np\n",
    "import pandas as pd\n",
    "import scipy as sp\n",
    "\n",
    "# Plotly imports\n",
    "import plotly.offline as py\n",
    "import plotly.graph_objs as go\n",
    "import plotly\n",
    "plotly.offline.init_notebook_mode(connected=True)\n",
    "\n",
    "import ipywidgets\n",
    "\n",
    "from operator import add\n",
    "\n",
    "import bisect\n",
    "import datetime\n",
    "import math\n",
    "import random\n",
    "import time\n",
    "\n",
    "# Keras imports\n",
    "from keras import optimizers\n",
    "from keras import regularizers\n",
    "from keras.models import Sequential\n",
    "#from keras.layers.core import Dense, Dropout\n",
    "from keras.layers import Dense, Dropout, LSTM, Embedding"
   ]
  },
  {
   "cell_type": "code",
   "execution_count": null,
   "metadata": {},
   "outputs": [],
   "source": [
    "from numpy.random import choice"
   ]
  },
  {
   "cell_type": "code",
   "execution_count": null,
   "metadata": {},
   "outputs": [],
   "source": [
    "N = 1200\n",
    "N_train = 1000\n",
    "N_test = N - N_train\n",
    "len_sequence = 20\n",
    "\n",
    "# Generate data\n",
    "X = np.zeros((N, len_sequence))\n",
    "one_indexes = choice(a=N, size=int(N / 2), replace=False)\n",
    "# Half of the values in X's first column are 1, half are zero\n",
    "X[one_indexes, 0] = 1  # very long term memory.\n",
    "# Y is just the first column of X, so the 'rule' is that X[i][0] = Y[i], and all the inbetween 0s are meaningless\n",
    "Y = X[:,0]\n",
    "\n",
    "# Split into training and testing\n",
    "X_train = X[:N_train,:]\n",
    "Y_train = Y[:N_train]\n",
    "X_test = X[N_train:,:]\n",
    "Y_test = Y[N_train:]"
   ]
  },
  {
   "cell_type": "code",
   "execution_count": null,
   "metadata": {},
   "outputs": [],
   "source": [
    "def prepare_sequences(x_train, y_train, window_length):\n",
    "    windows = []\n",
    "    windows_y = []\n",
    "    for i, sequence in enumerate(x_train):\n",
    "        len_seq = len(sequence)\n",
    "        for window_start in range(0, len_seq - window_length + 1):\n",
    "            window_end = window_start + window_length\n",
    "            window = sequence[window_start:window_end]\n",
    "            windows.append(window)\n",
    "            windows_y.append(y_train[i])\n",
    "    windows = np.array(windows)\n",
    "    windows = windows.reshape((windows.shape[0], windows.shape[1], 1))\n",
    "    windows_y = np.array(windows_y)\n",
    "    windows_y = windows_y.reshape((windows_y.shape[0], 1))\n",
    "    return windows, windows_y"
   ]
  },
  {
   "cell_type": "code",
   "execution_count": null,
   "metadata": {},
   "outputs": [],
   "source": [
    "# Split into windows\n",
    "window_length = 10\n",
    "(X_train_window, Y_train_window) = prepare_sequences(X_train, Y_train, window_length)\n",
    "(X_test_window, Y_test_window) = prepare_sequences(X_test, Y_test, window_length)\n",
    "\n",
    "X_test = np.array(X_test)\n",
    "X_test = X_test.reshape((X_test.shape[0], X_test.shape[1], 1))\n",
    "\n",
    "Y_test = np.array(Y_test)\n",
    "Y_test = Y_test.reshape((Y_test.shape[0], 1))\n",
    "\n",
    "X_train = np.array(X_train)\n",
    "X_train = X_train.reshape((X_train.shape[0], X_train.shape[1], 1))\n",
    "\n",
    "Y_train = np.array(Y_train)\n",
    "Y_train = Y_train.reshape((Y_train.shape[0], 1))"
   ]
  },
  {
   "cell_type": "code",
   "execution_count": null,
   "metadata": {},
   "outputs": [],
   "source": [
    "# Print shapes so we know everything is OK\n",
    "print('X.shape: ', X.shape)\n",
    "print('Y.shape: ', Y.shape)\n",
    "print('X_train.shape: ', X_train.shape)\n",
    "print('Y_train.shape: ', Y_train.shape)\n",
    "print('X_test.shape: ', X_test.shape)\n",
    "print('Y_test.shape: ', Y_test.shape)\n",
    "print('X_train_window.shape: ', X_train_window.shape)\n",
    "print('Y_train_window.shape: ', Y_train_window.shape)\n",
    "print('X_test_window.shape: ', X_test_window.shape)\n",
    "print('Y_test_window.shape: ', Y_test_window.shape)"
   ]
  },
  {
   "cell_type": "code",
   "execution_count": null,
   "metadata": {},
   "outputs": [],
   "source": [
    "len(X_train)"
   ]
  },
  {
   "cell_type": "code",
   "execution_count": null,
   "metadata": {},
   "outputs": [],
   "source": [
    "# Build first (stateless) LSTM\n",
    "time_steps = window_length # np.max(X_train.shape)\n",
    "batch_size = 100 # window_length\n",
    "print('Building STATELESS model...')\n",
    "model = Sequential()\n",
    "# model.add(LSTM(10, input_shape=(time_steps, 1), return_sequences=False, stateful=False))\n",
    "model.add(LSTM(10, batch_input_shape=(batch_size, time_steps, 1), return_sequences=False, stateful=True))\n",
    "model.add(Dense(1, activation='sigmoid'))\n",
    "model.compile(loss='binary_crossentropy', optimizer='adam', metrics=['accuracy'])\n",
    "model.fit(X_train_window, Y_train_window, batch_size=batch_size, epochs=15,\n",
    "          validation_data=(X_test_window, Y_test_window), shuffle=False)"
   ]
  },
  {
   "cell_type": "code",
   "execution_count": null,
   "metadata": {},
   "outputs": [],
   "source": [
    "score, acc = model.evaluate(X_test_window, Y_test_window, batch_size=batch_size, verbose=0)\n",
    "print('Score: ', score, 'acc: ', acc)"
   ]
  },
  {
   "cell_type": "code",
   "execution_count": null,
   "metadata": {},
   "outputs": [],
   "source": [
    "print('Build STATEFUL model...')\n",
    "model = Sequential()\n",
    "#model.add(LSTM(10, batch_input_shape=(1, window_length, 1), return_sequences=False, stateful=True))\n",
    "model.add(LSTM(10, batch_input_shape=(1, 1, 1), return_sequences=False, stateful=True))\n",
    "model.add(Dense(1, activation='sigmoid'))\n",
    "model.compile(loss='binary_crossentropy', optimizer='adam', metrics=['accuracy'])"
   ]
  },
  {
   "cell_type": "code",
   "execution_count": null,
   "metadata": {},
   "outputs": [],
   "source": [
    "print('Train...')\n",
    "max_len = 20\n",
    "for epoch in range(15):\n",
    "    mean_tr_acc = []\n",
    "    mean_tr_loss = []\n",
    "    for i in range(len(X_train)):\n",
    "        y_true = Y_train[i]\n",
    "        for j in range(max_len):\n",
    "            tr_loss, tr_acc = model.train_on_batch(np.expand_dims(np.expand_dims(X_train[i][j], axis=1), axis=1),\n",
    "                                                   np.array([y_true]))\n",
    "            mean_tr_acc.append(tr_acc)\n",
    "            mean_tr_loss.append(tr_loss)\n",
    "        model.reset_states()\n",
    "\n",
    "    print('accuracy training = {}'.format(np.mean(mean_tr_acc)))\n",
    "    print('loss training = {}'.format(np.mean(mean_tr_loss)))\n",
    "    print('___________________________________')\n",
    "\n",
    "    mean_te_acc = []\n",
    "    mean_te_loss = []\n",
    "    for i in range(len(X_test)):\n",
    "        for j in range(max_len):\n",
    "            te_loss, te_acc = model.test_on_batch(np.expand_dims(np.expand_dims(X_test[i][j], axis=1), axis=1),\n",
    "                                                  Y_test[i])\n",
    "            mean_te_acc.append(te_acc)\n",
    "            mean_te_loss.append(te_loss)\n",
    "        model.reset_states()\n",
    "\n",
    "        for j in range(max_len):\n",
    "            y_pred = model.predict_on_batch(np.expand_dims(np.expand_dims(X_test[i][j], axis=1), axis=1))\n",
    "        model.reset_states()\n",
    "\n",
    "    print('accuracy testing = {}'.format(np.mean(mean_te_acc)))\n",
    "    print('loss testing = {}'.format(np.mean(mean_te_loss)))\n",
    "    print('___________________________________')"
   ]
  },
  {
   "cell_type": "code",
   "execution_count": null,
   "metadata": {},
   "outputs": [],
   "source": [
    "print('Train...')\n",
    "max_len = 20\n",
    "num_windows = max_len-window_length+1\n",
    "for epoch in range(5):\n",
    "    mean_tr_acc = []\n",
    "    mean_tr_loss = []\n",
    "    for i in range(len(X_train)):\n",
    "        y_true = Y_train[i]\n",
    "        for j in range(num_windows):\n",
    "            tr_loss, tr_acc = model.train_on_batch(np.expand_dims(X_train_window[i*num_windows+j], axis=0),\n",
    "                                                   np.array([y_true]))\n",
    "            mean_tr_acc.append(tr_acc)\n",
    "            mean_tr_loss.append(tr_loss)\n",
    "        model.reset_states()\n",
    "\n",
    "    print('accuracy training = {}'.format(np.mean(mean_tr_acc)))\n",
    "    print('loss training = {}'.format(np.mean(mean_tr_loss)))\n",
    "    print('___________________________________')\n",
    "\n",
    "    mean_te_acc = []\n",
    "    mean_te_loss = []\n",
    "    for i in range(len(X_test)):\n",
    "        for j in range(num_windows):\n",
    "            te_loss, te_acc = model.test_on_batch(np.expand_dims(X_test_window[i*num_windows+j], axis=0),\n",
    "                                                  Y_test[i])\n",
    "            mean_te_acc.append(te_acc)\n",
    "            mean_te_loss.append(te_loss)\n",
    "        model.reset_states()\n",
    "\n",
    "        for j in range(num_windows):\n",
    "            y_pred = model.predict_on_batch(np.expand_dims(X_test_window[i*num_windows+j], axis=0))\n",
    "        model.reset_states()\n",
    "\n",
    "    print('accuracy testing = {}'.format(np.mean(mean_te_acc)))\n",
    "    print('loss testing = {}'.format(np.mean(mean_te_loss)))\n",
    "    print('___________________________________')"
   ]
  },
  {
   "cell_type": "code",
   "execution_count": null,
   "metadata": {},
   "outputs": [],
   "source": []
  }
 ],
 "metadata": {
  "kernelspec": {
   "display_name": "Python 3",
   "language": "python",
   "name": "python3"
  },
  "language_info": {
   "codemirror_mode": {
    "name": "ipython",
    "version": 3
   },
   "file_extension": ".py",
   "mimetype": "text/x-python",
   "name": "python",
   "nbconvert_exporter": "python",
   "pygments_lexer": "ipython3",
   "version": "3.7.0"
  }
 },
 "nbformat": 4,
 "nbformat_minor": 2
}
