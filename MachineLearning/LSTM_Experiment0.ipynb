{
 "cells": [
  {
   "cell_type": "markdown",
   "metadata": {},
   "source": [
    "# Machine Learning Experiment \\#1"
   ]
  },
  {
   "cell_type": "code",
   "execution_count": null,
   "metadata": {},
   "outputs": [],
   "source": [
    "import numpy as np\n",
    "import pandas as pd\n",
    "import scipy as sp\n",
    "\n",
    "# Plotly imports\n",
    "import plotly.offline as py\n",
    "import plotly.graph_objs as go\n",
    "import plotly\n",
    "plotly.offline.init_notebook_mode(connected=True)\n",
    "\n",
    "import ipywidgets\n",
    "\n",
    "from operator import add\n",
    "\n",
    "import bisect\n",
    "import datetime\n",
    "import math\n",
    "import random\n",
    "import time\n",
    "\n",
    "# Keras imports\n",
    "from keras import optimizers\n",
    "from keras import regularizers\n",
    "from keras.models import Sequential\n",
    "#from keras.layers.core import Dense, Dropout\n",
    "from keras.layers import Dense, Dropout, LSTM, Embedding"
   ]
  },
  {
   "cell_type": "code",
   "execution_count": null,
   "metadata": {},
   "outputs": [],
   "source": [
    "from numpy.random import choice"
   ]
  },
  {
   "cell_type": "code",
   "execution_count": null,
   "metadata": {},
   "outputs": [],
   "source": [
    "half_period = 4\n",
    "\n",
    "X = np.array(half_period * [1])\n",
    "for ii in range(100):\n",
    "    X = np.concatenate((X, np.array(half_period * [np.sign(ii % 2)])))\n",
    "    \n",
    "Y = X[2:]\n",
    "X = X[0:-2]"
   ]
  },
  {
   "cell_type": "code",
   "execution_count": null,
   "metadata": {},
   "outputs": [],
   "source": [
    "print('Build STATEFUL model...')\n",
    "model = Sequential()\n",
    "#model.add(LSTM(10, batch_input_shape=(1, window_length, 1), return_sequences=False, stateful=True))\n",
    "model.add(LSTM(10, batch_input_shape=(1, 1, 1), return_sequences=False, stateful=True))\n",
    "model.add(Dense(1, activation='sigmoid'))\n",
    "#model.add(Dense(1, activation='relu'))\n",
    "opt = optimizers.Adam(0.00001)\n",
    "#model.compile(loss='binary_crossentropy', optimizer=opt, metrics=['accuracy'])\n",
    "model.compile(loss='mse', optimizer=opt, metrics=['accuracy'])"
   ]
  },
  {
   "cell_type": "code",
   "execution_count": null,
   "metadata": {},
   "outputs": [],
   "source": [
    "print('Train...')\n",
    "plot_loss = []\n",
    "plot_acc = []\n",
    "for epoch in range(150):\n",
    "    mean_tr_acc = []\n",
    "    mean_tr_loss = []\n",
    "    for i in range(len(X)):\n",
    "        y_true = np.array(Y[i])\n",
    "        y_true = y_true.reshape((1,1))\n",
    "        \n",
    "        x_train = np.array(X[i])\n",
    "        x_train = x_train.reshape((1,1,1))\n",
    "        \n",
    "#         print(np.shape(y_true))\n",
    "#         print(np.shape(x_train))\n",
    "        tr_loss, tr_acc = model.train_on_batch(x_train, y_true)\n",
    "        mean_tr_acc.append(tr_acc)\n",
    "        mean_tr_loss.append(tr_loss)\n",
    "    model.reset_states()\n",
    "\n",
    "    print('accuracy training = {}'.format(np.mean(mean_tr_acc)))\n",
    "    print('loss training = {}'.format(np.mean(mean_tr_loss)))\n",
    "    plot_loss.append(np.mean(mean_tr_loss))\n",
    "    plot_acc.append(np.mean(mean_tr_acc))\n",
    "    print('___________________________________')"
   ]
  },
  {
   "cell_type": "code",
   "execution_count": null,
   "metadata": {},
   "outputs": [],
   "source": [
    "class LossesChart:\n",
    "    def __init__(self):\n",
    "        data = [dict(\n",
    "                type = 'scatter',\n",
    "                x = [ii for ii in range(len(plot_loss))],\n",
    "                y = plot_loss,\n",
    "                mode='lines')\n",
    "               ]\n",
    "        \n",
    "        layout = dict(\n",
    "                title = 'Losses')\n",
    "        \n",
    "        self.chart = go.FigureWidget( data=data, layout=layout )\n",
    "        \n",
    "        self.display = self.chart\n",
    "        \n",
    "losses_chart = LossesChart()\n",
    "losses_chart.display"
   ]
  },
  {
   "cell_type": "code",
   "execution_count": null,
   "metadata": {},
   "outputs": [],
   "source": [
    "class AccChart:\n",
    "    def __init__(self):\n",
    "        data = [dict(\n",
    "                type = 'scatter',\n",
    "                x = [ii for ii in range(len(plot_acc))],\n",
    "                y = plot_acc,\n",
    "                mode='lines')\n",
    "               ]\n",
    "        \n",
    "        layout = dict(\n",
    "                title = 'Acc')\n",
    "        \n",
    "        self.chart = go.FigureWidget( data=data, layout=layout )\n",
    "        \n",
    "        self.display = self.chart\n",
    "        \n",
    "acc_chart = AccChart()\n",
    "acc_chart.display"
   ]
  },
  {
   "cell_type": "code",
   "execution_count": null,
   "metadata": {},
   "outputs": [],
   "source": []
  }
 ],
 "metadata": {
  "kernelspec": {
   "display_name": "Python 3",
   "language": "python",
   "name": "python3"
  },
  "language_info": {
   "codemirror_mode": {
    "name": "ipython",
    "version": 3
   },
   "file_extension": ".py",
   "mimetype": "text/x-python",
   "name": "python",
   "nbconvert_exporter": "python",
   "pygments_lexer": "ipython3",
   "version": "3.7.0"
  }
 },
 "nbformat": 4,
 "nbformat_minor": 2
}
