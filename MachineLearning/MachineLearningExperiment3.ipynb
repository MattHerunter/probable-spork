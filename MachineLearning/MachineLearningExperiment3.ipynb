{
 "cells": [
  {
   "cell_type": "markdown",
   "metadata": {},
   "source": [
    "# Machine Learning Experiment \\#1"
   ]
  },
  {
   "cell_type": "code",
   "execution_count": null,
   "metadata": {},
   "outputs": [],
   "source": [
    "import pandas as pd\n",
    "import numpy as np\n",
    "import scipy as sp\n",
    "\n",
    "import plotly.offline as py\n",
    "import plotly.graph_objs as go\n",
    "import plotly\n",
    "plotly.offline.init_notebook_mode(connected=True)\n",
    "\n",
    "import ipywidgets\n",
    "\n",
    "import datetime\n",
    "import math\n",
    "import bisect\n",
    "import time"
   ]
  },
  {
   "cell_type": "code",
   "execution_count": null,
   "metadata": {},
   "outputs": [],
   "source": [
    "datafile = r'''..\\Data\\IVE_bidask1min.txt'''\n",
    "\n",
    "colnames = ['Date', 'Time', 'BidOpen', 'BidHigh', 'BidLow', 'BidClose', 'AskOpen', 'AskHigh', 'AskLow', 'AskClose']\n",
    "fullpricedata = pd.read_csv(datafile, names=colnames)\n",
    "\n",
    "fullpricedata['DateTime'] = (fullpricedata['Date']+fullpricedata['Time']).map(lambda x: datetime.datetime(int(x[6:10]), int(x[0:2]), int(x[3:5]), int(x[10:12]), int(x[13:15])))\n",
    "del fullpricedata['Date']\n",
    "del fullpricedata['Time']\n",
    "\n",
    "fullpricedata = fullpricedata[[(dt >= datetime.datetime(dt.year, dt.month, dt. day, 9, 30, 0)) and (dt <= datetime.datetime(dt.year, dt.month, dt. day, 16, 0, 0)) for dt in fullpricedata['DateTime']]].copy()"
   ]
  },
  {
   "cell_type": "code",
   "execution_count": null,
   "metadata": {},
   "outputs": [],
   "source": [
    "pricedata = fullpricedata[fullpricedata['DateTime'] > datetime.datetime(2019,1,2,0,0,0)].copy()\n",
    "#pricedata = pricedata[pricedata['DateTime'] < datetime.datetime(2019,1,3,0,0,0)].copy()\n",
    "pricedata = pricedata.reset_index()\n",
    "del pricedata['index']"
   ]
  },
  {
   "cell_type": "code",
   "execution_count": null,
   "metadata": {},
   "outputs": [],
   "source": [
    "from keras.models import Sequential\n",
    "from keras.layers.core import Dense, Dropout\n",
    "from keras import optimizers\n",
    "from keras import regularizers\n",
    "import random\n",
    "import numpy as np\n",
    "import pandas as pd\n",
    "from operator import add\n",
    "\n",
    "\n",
    "class DQNAgent(object):\n",
    "\n",
    "    def __init__(self):\n",
    "        self.inputs = 20\n",
    "        self.outputs = 1\n",
    "        self.model = self.network()\n",
    "\n",
    "    def network(self, weights=None):\n",
    "        model = Sequential()\n",
    "        \n",
    "        num_layers = 3\n",
    "        neurons_per_layer = 20\n",
    "        dropout = 0.0\n",
    "        reg = 0.00\n",
    "        act = 'tanh'\n",
    "        output_act = 'linear'\n",
    "        learning = 0.0025\n",
    "        opt = optimizers.Adam(learning)\n",
    "        \n",
    "        if num_layers == 0:\n",
    "            if dropout > 0:\n",
    "                    model.add(Dropout(dropout))\n",
    "            model.add(Dense(units=self.outputs, activation=output_act, input_dim=self.inputs,\n",
    "                        kernel_regularizer=regularizers.l1(reg),\n",
    "                        activity_regularizer=regularizers.l1(reg)))\n",
    "        else:\n",
    "            model.add(Dense(units=neurons_per_layer, activation=act, input_dim=self.inputs,\n",
    "                            kernel_regularizer=regularizers.l1(reg),\n",
    "                            activity_regularizer=regularizers.l1(reg)))\n",
    "            \n",
    "            for ii in range(num_layers - 1):\n",
    "                if dropout > 0:\n",
    "                    model.add(Dropout(dropout))\n",
    "                model.add(Dense(units=neurons_per_layer, activation=act,\n",
    "                                kernel_regularizer=regularizers.l1(reg),\n",
    "                                activity_regularizer=regularizers.l1(reg)))\n",
    "                \n",
    "            if dropout > 0:\n",
    "                    model.add(Dropout(dropout))\n",
    "            model.add(Dense(units=self.outputs, activation=output_act,\n",
    "                            kernel_regularizer=regularizers.l1(reg),\n",
    "                            activity_regularizer=regularizers.l1(reg))) \n",
    "    \n",
    "        model.compile(loss='mse', optimizer=opt)\n",
    "\n",
    "        return model    \n",
    "        \n",
    "        \n",
    "    def train(self, inputs, outputs):\n",
    "        return self.model.fit(inputs, outputs, epochs=3000, verbose=2, batch_size=100)"
   ]
  },
  {
   "cell_type": "code",
   "execution_count": null,
   "metadata": {
    "scrolled": true
   },
   "outputs": [],
   "source": [
    "agent = DQNAgent()\n",
    "\n",
    "inputs = []\n",
    "rewards = []\n",
    "\n",
    "start_date = pricedata['DateTime'][0].date()\n",
    "end_date = pricedata['DateTime'][len(pricedata)-1].date()\n",
    "days = []\n",
    "\n",
    "curr_day = start_date\n",
    "day_index = 0\n",
    "while curr_day < end_date:\n",
    "    days.append(curr_day)\n",
    "    curr_day = curr_day + datetime.timedelta(days=1)\n",
    "\n",
    "for day in days:\n",
    "    daypricedata = pricedata[pricedata['DateTime'] > pd.Timestamp(day)].copy()\n",
    "    daypricedata = daypricedata[daypricedata['DateTime'] < pd.Timestamp(day) + datetime.timedelta(days=1)].copy()\n",
    "    daypricedata = daypricedata.reset_index()\n",
    "    N = agent.inputs+1\n",
    "    n = 10\n",
    "    M = len(daypricedata)-N-n\n",
    "\n",
    "    for index in range(0,M):\n",
    "        inputs.append(np.diff(daypricedata['BidClose'][index:index+N]))\n",
    "        rewards.append(daypricedata['BidClose'][index+N+n] - daypricedata['BidClose'][index+N])\n",
    "\n",
    "    \n",
    "inputs = np.array(inputs)\n",
    "history = agent.train(inputs,rewards)\n",
    "losses = history.history['loss']\n",
    "\n",
    "predictions = agent.model.predict_on_batch(inputs)"
   ]
  },
  {
   "cell_type": "code",
   "execution_count": null,
   "metadata": {},
   "outputs": [],
   "source": [
    "x_plot = [ii for ii in range(len(predictions))]\n",
    "pred_plot = [w[0] for w in predictions]\n",
    "\n",
    "pred_mean = np.mean(pred_plot)\n",
    "rewards_mean = np.mean(rewards)\n",
    "print(pred_mean, rewards_mean)"
   ]
  },
  {
   "cell_type": "code",
   "execution_count": null,
   "metadata": {},
   "outputs": [],
   "source": [
    "class Chart:\n",
    "    def __init__(self):\n",
    "        data = [dict(\n",
    "                type = 'scatter',\n",
    "                x = x_plot,\n",
    "                y = rewards,\n",
    "                mode='lines'),\n",
    "                dict(\n",
    "                type = 'scatter',\n",
    "                x = x_plot,\n",
    "                y = pred_plot,\n",
    "                mode='lines'),\n",
    "               ]\n",
    "        \n",
    "        layout = dict(\n",
    "                title = 'Plot')\n",
    "        \n",
    "        self.chart = go.FigureWidget( data=data, layout=layout )\n",
    "        \n",
    "        self.display = self.chart\n",
    "        \n",
    "chart = Chart()\n",
    "chart.display"
   ]
  },
  {
   "cell_type": "code",
   "execution_count": null,
   "metadata": {},
   "outputs": [],
   "source": [
    "class LossesChart:\n",
    "    def __init__(self):\n",
    "        data = [dict(\n",
    "                type = 'scatter',\n",
    "                x = [ii for ii in range(len(losses))],\n",
    "                y = losses,\n",
    "                mode='lines')\n",
    "               ]\n",
    "        \n",
    "        layout = dict(\n",
    "                title = 'Plot')\n",
    "        \n",
    "        self.chart = go.FigureWidget( data=data, layout=layout )\n",
    "        \n",
    "        self.display = self.chart\n",
    "        \n",
    "losses_chart = LossesChart()\n",
    "losses_chart.display"
   ]
  },
  {
   "cell_type": "markdown",
   "metadata": {},
   "source": [
    "# To-Do List\n",
    "\n",
    "* Extract volume per minute data from tick data\n",
    "* LossesChart/etc. applied to separate test data\n",
    "* Try feeding a vector of indicators instead of raw price data\n",
    "* Implement actual buy/sell strategy based on NN output, evaluate performance"
   ]
  },
  {
   "cell_type": "code",
   "execution_count": null,
   "metadata": {},
   "outputs": [],
   "source": []
  }
 ],
 "metadata": {
  "kernelspec": {
   "display_name": "Python 3",
   "language": "python",
   "name": "python3"
  },
  "language_info": {
   "codemirror_mode": {
    "name": "ipython",
    "version": 3
   },
   "file_extension": ".py",
   "mimetype": "text/x-python",
   "name": "python",
   "nbconvert_exporter": "python",
   "pygments_lexer": "ipython3",
   "version": "3.7.0"
  }
 },
 "nbformat": 4,
 "nbformat_minor": 2
}
