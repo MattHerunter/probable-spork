{
 "cells": [
  {
   "cell_type": "code",
   "execution_count": null,
   "metadata": {},
   "outputs": [],
   "source": [
    "# This allows importing Jupyter notebooks as modules\n",
    "import os\n",
    "import sys\n",
    "module_path = os.path.abspath(os.path.join('..'))\n",
    "if module_path not in sys.path:\n",
    "    sys.path.append(module_path)\n",
    "import JupyterNotebookImporter"
   ]
  },
  {
   "cell_type": "code",
   "execution_count": null,
   "metadata": {},
   "outputs": [],
   "source": [
    "import numpy as np\n",
    "import AlgoPlotting as plt\n",
    "import itertools as it"
   ]
  },
  {
   "cell_type": "code",
   "execution_count": null,
   "metadata": {},
   "outputs": [],
   "source": [
    "def shape_it(X):\n",
    "    return np.expand_dims(X.reshape((-1,1)),2)"
   ]
  },
  {
   "cell_type": "code",
   "execution_count": null,
   "metadata": {},
   "outputs": [],
   "source": [
    "def generate_prediction_data(price_data, sell_target_diff=1.00, stop_loss_diff=1.00, commission=0):\n",
    "    predictions = []\n",
    "    N = len(price_data)\n",
    "    for ii in range(N):\n",
    "        sell_target = price_data[ii] + sell_target_diff\n",
    "        stop_loss = price_data[ii] - stop_loss_diff\n",
    "        jj = ii\n",
    "        while price_data[jj] >= stop_loss and price_data[jj] <= sell_target and jj < N-1:\n",
    "            if jj < N-1:\n",
    "                jj += 1\n",
    "        if price_data[jj] >= sell_target:\n",
    "            prediction = 1\n",
    "        else: # price_data[jj] <= stop_loss:\n",
    "            prediction = 0\n",
    "#         elif jj >= N and price_data[N-1] > price_data[ii]:\n",
    "#             prediction = price_data[N-1]/sell_target\n",
    "#         else:\n",
    "#             prediction = -stop_loss/price_data[N-1]\n",
    "        \n",
    "        predictions.append(prediction)\n",
    "    return np.array(predictions)\n",
    "        "
   ]
  },
  {
   "cell_type": "code",
   "execution_count": null,
   "metadata": {},
   "outputs": [],
   "source": [
    "# This method is used to filter out spikes one way or the other in the bullish/bearish classification data.\n",
    "def filter_prediction_data(prediction_data, tol=2, use_uncertain_class=False):\n",
    "    # Get array of values and lengths of sequences in prediction_data (e.g. [0 0 0 1 1] = [(0, 3), (2, 1)])\n",
    "    sequences = np.array([(k, sum(1 for _ in i)) for k, i in it.groupby(prediction_data)])\n",
    "    \n",
    "    # Split up and get indexing vectors\n",
    "    values = sequences[:,0]\n",
    "    lengths = sequences[:,1]\n",
    "    ends = np.cumsum(lengths)\n",
    "    starts = np.hstack((0, ends[:-1]))\n",
    "    \n",
    "    # Use uncertain classifier if specified, otherwise treat as bearish\n",
    "    bullish = 1\n",
    "    bearish = 0\n",
    "    if use_uncertain_class:\n",
    "        uncertain = 0.5\n",
    "    else:\n",
    "        uncertain = bearish\n",
    "    \n",
    "    # Convert to float np array, otherwise assigning to 0.5 results in 0\n",
    "    filtered_prediction_data = np.array(prediction_data).astype(float)\n",
    "    N = len(values)\n",
    "    for ii in range(N):\n",
    "        # Check to see if the sequence is too short and needs to be removed\n",
    "        if lengths[ii] < tol:\n",
    "            if ii == 0:\n",
    "                if lengths[1] >= tol:\n",
    "                    value = values[1]\n",
    "                else:\n",
    "                    value = uncertain\n",
    "            elif ii == N-1:\n",
    "                if lengths[N-2] >= tol:\n",
    "                    value = values[N-2]\n",
    "                else:\n",
    "                    value = uncertain\n",
    "            elif values[ii-1] == values[ii+1] and lengths[ii-1] >= tol and lengths[ii+1] >= tol:\n",
    "                    value = values[ii-1]\n",
    "            else:\n",
    "                value = uncertain\n",
    "            #print(value)\n",
    "            #print(filtered_prediction_data)\n",
    "            filtered_prediction_data[starts[ii]:ends[ii]] = value\n",
    "            #print(filtered_prediction_data)\n",
    "    return filtered_prediction_data"
   ]
  }
 ],
 "metadata": {
  "kernelspec": {
   "display_name": "Python 3",
   "language": "python",
   "name": "python3"
  },
  "language_info": {
   "codemirror_mode": {
    "name": "ipython",
    "version": 3
   },
   "file_extension": ".py",
   "mimetype": "text/x-python",
   "name": "python",
   "nbconvert_exporter": "python",
   "pygments_lexer": "ipython3",
   "version": "3.7.0"
  }
 },
 "nbformat": 4,
 "nbformat_minor": 2
}
